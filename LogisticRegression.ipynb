{
 "cells": [
  {
   "cell_type": "code",
   "execution_count": 1,
   "metadata": {
    "collapsed": false
   },
   "outputs": [
    {
     "name": "stderr",
     "output_type": "stream",
     "text": [
      "/usr/local/lib/python2.7/site-packages/matplotlib/font_manager.py:273: UserWarning: Matplotlib is building the font cache using fc-list. This may take a moment.\n",
      "  warnings.warn('Matplotlib is building the font cache using fc-list. This may take a moment.')\n"
     ]
    }
   ],
   "source": [
    "%matplotlib inline\n",
    "import pandas as pd\n",
    "import numpy as np\n",
    "from pandas import DataFrame\n",
    "from pandas import Series\n",
    "import matplotlib.pyplot as plt\n",
    "from datetime import datetime\n",
    "from sklearn.preprocessing import LabelEncoder\n",
    "from sklearn.linear_model import LogisticRegression\n",
    "from sklearn.cross_validation import StratifiedKFold\n",
    "from sklearn.cross_validation import cross_val_score\n",
    "from scipy.sparse import csr_matrix, hstack\n",
    "from sklearn.metrics import log_loss"
   ]
  },
  {
   "cell_type": "code",
   "execution_count": 2,
   "metadata": {
    "collapsed": false
   },
   "outputs": [
    {
     "name": "stdout",
     "output_type": "stream",
     "text": [
      "app_events.csv                    gender_age_train.csv\r\n",
      "app_events.csv.zip                gender_age_train.csv.zip\r\n",
      "app_labels.csv                    label_categories.csv\r\n",
      "app_labels.csv.zip                label_categories.csv.zip\r\n",
      "events.csv                        phone_brand_device_model.csv\r\n",
      "events.csv.zip                    phone_brand_device_model.csv.zip\r\n",
      "gender_age_test.csv               sample_submission.csv\r\n",
      "gender_age_test.csv.zip           sample_submission.csv.zip\r\n"
     ]
    }
   ],
   "source": [
    "ls Data"
   ]
  },
  {
   "cell_type": "code",
   "execution_count": 3,
   "metadata": {
    "collapsed": false
   },
   "outputs": [],
   "source": [
    "gatrain = pd.read_csv('Data/gender_age_train.csv',\n",
    "                      index_col='device_id')\n",
    "gatest = pd.read_csv('Data/gender_age_test.csv',\n",
    "                     index_col = 'device_id')\n",
    "phone = pd.read_csv('Data/phone_brand_device_model.csv')\n",
    "# Get rid of duplicate device ids in phone\n",
    "phone = phone.drop_duplicates('device_id',keep='first').set_index('device_id')\n",
    "event = pd.read_csv('Data/events.csv',\n",
    "                     parse_dates=['timestamp'], index_col='event_id')\n",
    "app_event = pd.read_csv('Data/app_events.csv', \n",
    "                        usecols=['event_id','app_id','is_active'],\n",
    "                        dtype={'is_active':bool})\n",
    "app_label = pd.read_csv('Data/app_labels.csv')\n",
    "label_cat = pd.read_csv('Data/label_categories.csv')"
   ]
  },
  {
   "cell_type": "code",
   "execution_count": 4,
   "metadata": {
    "collapsed": false
   },
   "outputs": [
    {
     "name": "stdout",
     "output_type": "stream",
     "text": [
      "                     gender  age   group  trainrow\n",
      "device_id                                         \n",
      "-8076087639492063270      M   35  M32-38         0\n",
      "-2897161552818060146      M   35  M32-38         1\n",
      "-8260683887967679142      M   35  M32-38         2\n",
      "-4938849341048082022      M   30  M29-31         3\n",
      " 245133531816851882       M   30  M29-31         4\n",
      "                      testrow\n",
      "device_id                    \n",
      " 1002079943728939269        0\n",
      "-1547860181818787117        1\n",
      " 7374582448058474277        2\n",
      "-6220210354783429585        3\n",
      "-5893464122623104785        4\n"
     ]
    }
   ],
   "source": [
    "gatrain['trainrow'] = np.arange(gatrain.shape[0])\n",
    "gatest['testrow'] = np.arange(gatest.shape[0])\n",
    "print gatrain.head()\n",
    "print gatest.head()"
   ]
  },
  {
   "cell_type": "code",
   "execution_count": 5,
   "metadata": {
    "collapsed": false
   },
   "outputs": [
    {
     "name": "stdout",
     "output_type": "stream",
     "text": [
      "Brand features: train shape (74645, 131), test shape (112071, 131)\n",
      "                     gender  age   group  trainrow  brand\n",
      "device_id                                                \n",
      "-8076087639492063270      M   35  M32-38         0     51\n",
      "-2897161552818060146      M   35  M32-38         1     51\n",
      "-8260683887967679142      M   35  M32-38         2     51\n",
      "-4938849341048082022      M   30  M29-31         3     51\n",
      " 245133531816851882       M   30  M29-31         4     51\n",
      "                      testrow  brand\n",
      "device_id                           \n",
      " 1002079943728939269        0     51\n",
      "-1547860181818787117        1     51\n",
      " 7374582448058474277        2     31\n",
      "-6220210354783429585        3     31\n",
      "-5893464122623104785        4     51\n"
     ]
    }
   ],
   "source": [
    "brandencoder = LabelEncoder().fit(phone.phone_brand)\n",
    "phone['brand'] = brandencoder.transform(phone['phone_brand'])\n",
    "gatrain['brand'] = phone['brand']\n",
    "gatest['brand'] = phone['brand']\n",
    "mtrain_brand = csr_matrix((np.ones(gatrain.shape[0]), \n",
    "                       (gatrain.trainrow, gatrain.brand)))\n",
    "mtest_brand = csr_matrix((np.ones(gatest.shape[0]), \n",
    "                       (gatest.testrow, gatest.brand)))\n",
    "print('Brand features: train shape {}, test shape {}'.format(mtrain_brand.shape, mtest_brand.shape))\n",
    "print gatrain.head()\n",
    "print gatest.head()"
   ]
  },
  {
   "cell_type": "code",
   "execution_count": 6,
   "metadata": {
    "collapsed": false
   },
   "outputs": [
    {
     "name": "stdout",
     "output_type": "stream",
     "text": [
      "Model features: train shape (74645, 1667), test shape (112071, 1667)\n",
      "                     phone_brand   device_model  brand  model\n",
      "device_id                                                    \n",
      "-8890648629457979026          小米             红米     51    858\n",
      " 1277779817574759137          小米           MI 2     51    843\n",
      " 5137427614288105724          三星      Galaxy S4     15    371\n",
      " 3669464369358936369       SUGAR           时尚手机      9    166\n",
      "-5019277647504317457          三星  Galaxy Note 2     15    347\n",
      "                     gender  age   group  trainrow  brand  model\n",
      "device_id                                                       \n",
      "-8076087639492063270      M   35  M32-38         0     51    843\n",
      "-2897161552818060146      M   35  M32-38         1     51    843\n",
      "-8260683887967679142      M   35  M32-38         2     51    843\n",
      "-4938849341048082022      M   30  M29-31         3     51    865\n",
      " 245133531816851882       M   30  M29-31         4     51    847\n",
      "                      testrow  brand  model\n",
      "device_id                                  \n",
      " 1002079943728939269        0     51    857\n",
      "-1547860181818787117        1     51    860\n",
      " 7374582448058474277        2     31    717\n",
      "-6220210354783429585        3     31    735\n",
      "-5893464122623104785        4     51    843\n"
     ]
    }
   ],
   "source": [
    "m = phone.phone_brand.str.cat(phone.device_model)\n",
    "modelencoder = LabelEncoder().fit(m)\n",
    "phone['model'] = modelencoder.transform(m)\n",
    "gatrain['model'] = phone['model']\n",
    "gatest['model'] = phone['model']\n",
    "mtrain_model = csr_matrix((np.ones(gatrain.shape[0]), \n",
    "                       (gatrain.trainrow, gatrain.model)))\n",
    "mtest_model = csr_matrix((np.ones(gatest.shape[0]), \n",
    "                       (gatest.testrow, gatest.model)))\n",
    "print('Model features: train shape {}, test shape {}'.format(mtrain_model.shape, mtest_model.shape))\n",
    "print phone.head()\n",
    "print gatrain.head()\n",
    "print gatest.head()"
   ]
  },
  {
   "cell_type": "code",
   "execution_count": 7,
   "metadata": {
    "collapsed": false
   },
   "outputs": [
    {
     "data": {
      "text/html": [
       "<div>\n",
       "<table border=\"1\" class=\"dataframe\">\n",
       "  <thead>\n",
       "    <tr style=\"text-align: right;\">\n",
       "      <th></th>\n",
       "      <th>device_id</th>\n",
       "      <th>app</th>\n",
       "      <th>size</th>\n",
       "      <th>trainrow</th>\n",
       "      <th>testrow</th>\n",
       "    </tr>\n",
       "  </thead>\n",
       "  <tbody>\n",
       "    <tr>\n",
       "      <th>0</th>\n",
       "      <td>-9222956879900151005</td>\n",
       "      <td>548</td>\n",
       "      <td>18</td>\n",
       "      <td>21594.0</td>\n",
       "      <td>NaN</td>\n",
       "    </tr>\n",
       "    <tr>\n",
       "      <th>1</th>\n",
       "      <td>-9222956879900151005</td>\n",
       "      <td>1096</td>\n",
       "      <td>18</td>\n",
       "      <td>21594.0</td>\n",
       "      <td>NaN</td>\n",
       "    </tr>\n",
       "    <tr>\n",
       "      <th>2</th>\n",
       "      <td>-9222956879900151005</td>\n",
       "      <td>1248</td>\n",
       "      <td>26</td>\n",
       "      <td>21594.0</td>\n",
       "      <td>NaN</td>\n",
       "    </tr>\n",
       "    <tr>\n",
       "      <th>3</th>\n",
       "      <td>-9222956879900151005</td>\n",
       "      <td>1545</td>\n",
       "      <td>12</td>\n",
       "      <td>21594.0</td>\n",
       "      <td>NaN</td>\n",
       "    </tr>\n",
       "    <tr>\n",
       "      <th>4</th>\n",
       "      <td>-9222956879900151005</td>\n",
       "      <td>1664</td>\n",
       "      <td>18</td>\n",
       "      <td>21594.0</td>\n",
       "      <td>NaN</td>\n",
       "    </tr>\n",
       "  </tbody>\n",
       "</table>\n",
       "</div>"
      ],
      "text/plain": [
       "             device_id   app  size  trainrow  testrow\n",
       "0 -9222956879900151005   548    18   21594.0      NaN\n",
       "1 -9222956879900151005  1096    18   21594.0      NaN\n",
       "2 -9222956879900151005  1248    26   21594.0      NaN\n",
       "3 -9222956879900151005  1545    12   21594.0      NaN\n",
       "4 -9222956879900151005  1664    18   21594.0      NaN"
      ]
     },
     "execution_count": 7,
     "metadata": {},
     "output_type": "execute_result"
    }
   ],
   "source": [
    "appencoder = LabelEncoder().fit(app_event.app_id)\n",
    "app_event['app'] = appencoder.transform(app_event.app_id)\n",
    "napps = len(appencoder.classes_)\n",
    "device_app = (app_event.merge(event[['device_id']], how='left',left_on='event_id',right_index=True)\n",
    "                       .groupby(['device_id','app'])['app'].agg(['size'])\n",
    "                       .merge(gatrain[['trainrow']], how='left', left_index=True, right_index=True)\n",
    "                       .merge(gatest[['testrow']], how='left', left_index=True, right_index=True)\n",
    "                       .reset_index())\n",
    "device_app.head()"
   ]
  },
  {
   "cell_type": "code",
   "execution_count": 8,
   "metadata": {
    "collapsed": false
   },
   "outputs": [
    {
     "name": "stdout",
     "output_type": "stream",
     "text": [
      "Apps data: train shape (74645, 19237), test shape (112071, 19237)\n"
     ]
    }
   ],
   "source": [
    "d = device_app.dropna(subset=['trainrow'])\n",
    "mtrain_app = csr_matrix((np.ones(d.shape[0]), (d.trainrow, d.app)), \n",
    "                      shape=(gatrain.shape[0],napps))\n",
    "d = device_app.dropna(subset=['testrow'])\n",
    "mtest_app = csr_matrix((np.ones(d.shape[0]), (d.testrow, d.app)), \n",
    "                      shape=(gatest.shape[0],napps))\n",
    "print('Apps data: train shape {}, test shape {}'.format(mtrain_app.shape, mtest_app.shape))"
   ]
  },
  {
   "cell_type": "code",
   "execution_count": 9,
   "metadata": {
    "collapsed": false
   },
   "outputs": [],
   "source": [
    "app_label = pd.read_csv('Data/app_labels.csv')"
   ]
  },
  {
   "cell_type": "code",
   "execution_count": 10,
   "metadata": {
    "collapsed": false
   },
   "outputs": [
    {
     "data": {
      "text/html": [
       "<div>\n",
       "<table border=\"1\" class=\"dataframe\">\n",
       "  <thead>\n",
       "    <tr style=\"text-align: right;\">\n",
       "      <th></th>\n",
       "      <th>app_id</th>\n",
       "      <th>label_id</th>\n",
       "      <th>app</th>\n",
       "      <th>label</th>\n",
       "    </tr>\n",
       "  </thead>\n",
       "  <tbody>\n",
       "    <tr>\n",
       "      <th>0</th>\n",
       "      <td>7324884708820027918</td>\n",
       "      <td>251</td>\n",
       "      <td>17355</td>\n",
       "      <td>207</td>\n",
       "    </tr>\n",
       "    <tr>\n",
       "      <th>1</th>\n",
       "      <td>-4494216993218550286</td>\n",
       "      <td>251</td>\n",
       "      <td>4618</td>\n",
       "      <td>207</td>\n",
       "    </tr>\n",
       "    <tr>\n",
       "      <th>2</th>\n",
       "      <td>6058196446775239644</td>\n",
       "      <td>406</td>\n",
       "      <td>15548</td>\n",
       "      <td>247</td>\n",
       "    </tr>\n",
       "    <tr>\n",
       "      <th>3</th>\n",
       "      <td>6058196446775239644</td>\n",
       "      <td>407</td>\n",
       "      <td>15548</td>\n",
       "      <td>248</td>\n",
       "    </tr>\n",
       "    <tr>\n",
       "      <th>4</th>\n",
       "      <td>8694625920731541625</td>\n",
       "      <td>406</td>\n",
       "      <td>18689</td>\n",
       "      <td>247</td>\n",
       "    </tr>\n",
       "  </tbody>\n",
       "</table>\n",
       "</div>"
      ],
      "text/plain": [
       "                app_id  label_id    app  label\n",
       "0  7324884708820027918       251  17355    207\n",
       "1 -4494216993218550286       251   4618    207\n",
       "2  6058196446775239644       406  15548    247\n",
       "3  6058196446775239644       407  15548    248\n",
       "4  8694625920731541625       406  18689    247"
      ]
     },
     "execution_count": 10,
     "metadata": {},
     "output_type": "execute_result"
    }
   ],
   "source": [
    "app_label = app_label.loc[app_label.app_id.isin(app_event.app_id.unique())]\n",
    "app_label['app'] = appencoder.transform(app_label.app_id)\n",
    "labelencoder = LabelEncoder().fit(app_label.label_id)\n",
    "app_label['label'] = labelencoder.transform(app_label.label_id)\n",
    "nlabels = len(labelencoder.classes_)\n",
    "app_label.head()"
   ]
  },
  {
   "cell_type": "code",
   "execution_count": 11,
   "metadata": {
    "collapsed": false
   },
   "outputs": [
    {
     "data": {
      "text/html": [
       "<div>\n",
       "<table border=\"1\" class=\"dataframe\">\n",
       "  <thead>\n",
       "    <tr style=\"text-align: right;\">\n",
       "      <th></th>\n",
       "      <th>device_id</th>\n",
       "      <th>label</th>\n",
       "      <th>size</th>\n",
       "      <th>trainrow</th>\n",
       "      <th>testrow</th>\n",
       "    </tr>\n",
       "  </thead>\n",
       "  <tbody>\n",
       "    <tr>\n",
       "      <th>0</th>\n",
       "      <td>-9222956879900151005</td>\n",
       "      <td>117</td>\n",
       "      <td>1</td>\n",
       "      <td>21594.0</td>\n",
       "      <td>NaN</td>\n",
       "    </tr>\n",
       "    <tr>\n",
       "      <th>1</th>\n",
       "      <td>-9222956879900151005</td>\n",
       "      <td>120</td>\n",
       "      <td>1</td>\n",
       "      <td>21594.0</td>\n",
       "      <td>NaN</td>\n",
       "    </tr>\n",
       "    <tr>\n",
       "      <th>2</th>\n",
       "      <td>-9222956879900151005</td>\n",
       "      <td>126</td>\n",
       "      <td>1</td>\n",
       "      <td>21594.0</td>\n",
       "      <td>NaN</td>\n",
       "    </tr>\n",
       "    <tr>\n",
       "      <th>3</th>\n",
       "      <td>-9222956879900151005</td>\n",
       "      <td>138</td>\n",
       "      <td>2</td>\n",
       "      <td>21594.0</td>\n",
       "      <td>NaN</td>\n",
       "    </tr>\n",
       "    <tr>\n",
       "      <th>4</th>\n",
       "      <td>-9222956879900151005</td>\n",
       "      <td>147</td>\n",
       "      <td>2</td>\n",
       "      <td>21594.0</td>\n",
       "      <td>NaN</td>\n",
       "    </tr>\n",
       "  </tbody>\n",
       "</table>\n",
       "</div>"
      ],
      "text/plain": [
       "             device_id  label  size  trainrow  testrow\n",
       "0 -9222956879900151005    117     1   21594.0      NaN\n",
       "1 -9222956879900151005    120     1   21594.0      NaN\n",
       "2 -9222956879900151005    126     1   21594.0      NaN\n",
       "3 -9222956879900151005    138     2   21594.0      NaN\n",
       "4 -9222956879900151005    147     2   21594.0      NaN"
      ]
     },
     "execution_count": 11,
     "metadata": {},
     "output_type": "execute_result"
    }
   ],
   "source": [
    "device_label = (device_app[['device_id','app']]\n",
    "                .merge(app_label[['app','label']])\n",
    "                .groupby(['device_id','label'])['app'].agg(['size'])\n",
    "                .merge(gatrain[['trainrow']], how='left', left_index=True, right_index=True)\n",
    "                .merge(gatest[['testrow']], how='left', left_index=True, right_index=True)\n",
    "                .reset_index())\n",
    "device_label.head()"
   ]
  },
  {
   "cell_type": "code",
   "execution_count": 12,
   "metadata": {
    "collapsed": false
   },
   "outputs": [
    {
     "name": "stdout",
     "output_type": "stream",
     "text": [
      "Labels data: train shape (74645, 492), test shape (112071, 492)\n"
     ]
    }
   ],
   "source": [
    "d = device_label.dropna(subset=['trainrow'])\n",
    "mtrain_label = csr_matrix((np.ones(d.shape[0]), (d.trainrow, d.label)), \n",
    "                      shape=(gatrain.shape[0],nlabels))\n",
    "d = device_label.dropna(subset=['testrow'])\n",
    "mtest_label = csr_matrix((np.ones(d.shape[0]), (d.testrow, d.label)), \n",
    "                      shape=(gatest.shape[0],nlabels))\n",
    "print('Labels data: train shape {}, test shape {}'.format(mtrain_label.shape, mtest_label.shape))"
   ]
  },
  {
   "cell_type": "code",
   "execution_count": 13,
   "metadata": {
    "collapsed": false
   },
   "outputs": [
    {
     "name": "stdout",
     "output_type": "stream",
     "text": [
      "All features: train shape (74645, 21527), test shape (112071, 21527)\n"
     ]
    }
   ],
   "source": [
    "mtrain = hstack((mtrain_brand, mtrain_model, mtrain_app, mtrain_label), format='csr')\n",
    "mtest =  hstack((mtest_brand, mtest_model, mtest_app, mtest_label), format='csr')\n",
    "print('All features: train shape {}, test shape {}'.format(mtrain.shape, mtest.shape))"
   ]
  },
  {
   "cell_type": "code",
   "execution_count": 14,
   "metadata": {
    "collapsed": false
   },
   "outputs": [
    {
     "name": "stdout",
     "output_type": "stream",
     "text": [
      "12\n"
     ]
    }
   ],
   "source": [
    "targetencoder = LabelEncoder().fit(gatrain.group)\n",
    "y = targetencoder.transform(gatrain.group)\n",
    "nclasses = len(targetencoder.classes_)\n",
    "print nclasses"
   ]
  },
  {
   "cell_type": "code",
   "execution_count": 15,
   "metadata": {
    "collapsed": true
   },
   "outputs": [],
   "source": [
    "def score(clf, X=mtrain, cv=5, scoring='log_loss'):\n",
    "    return cross_val_score(clf, X, y, cv=cv, scoring=scoring)"
   ]
  },
  {
   "cell_type": "code",
   "execution_count": 17,
   "metadata": {
    "collapsed": false
   },
   "outputs": [
    {
     "name": "stdout",
     "output_type": "stream",
     "text": [
      "0.0201172620027 2.28844405252\n"
     ]
    },
    {
     "data": {
      "text/plain": [
       "[<matplotlib.lines.Line2D at 0x118b3fa50>]"
      ]
     },
     "execution_count": 17,
     "metadata": {},
     "output_type": "execute_result"
    },
    {
     "data": {
      "image/png": "[encoded data removed]",
      "text/plain": [
       "<matplotlib.figure.Figure at 0x112c68fd0>"
      ]
     },
     "metadata": {},
     "output_type": "display_data"
    }
   ],
   "source": [
    "Cs = np.logspace(-4,-3,10, base = 3.0)\n",
    "res = []\n",
    "best_C, best_res = 0, None\n",
    "for C in Cs:\n",
    "    scores = -1 * score(LogisticRegression(C = C))\n",
    "    temp_res = scores.mean()\n",
    "    res.append(temp_res)\n",
    "    if not best_res or temp_res < best_res:\n",
    "        best_res, best_C = temp_res, C\n",
    "print best_C, best_res\n",
    "plt.semilogx(Cs, res,'-o')"
   ]
  },
  {
   "cell_type": "code",
   "execution_count": 18,
   "metadata": {
    "collapsed": false
   },
   "outputs": [
    {
     "name": "stdout",
     "output_type": "stream",
     "text": [
      "0.016681005372 2.28248670863\n"
     ]
    },
    {
     "data": {
      "text/plain": [
       "[<matplotlib.lines.Line2D at 0x119c95390>]"
      ]
     },
     "execution_count": 18,
     "metadata": {},
     "output_type": "execute_result"
    },
    {
     "data": {
      "image/png": "[encoded data removed]",
      "text/plain": [
       "<matplotlib.figure.Figure at 0x1297a7050>"
      ]
     },
     "metadata": {},
     "output_type": "display_data"
    }
   ],
   "source": [
    "Cs = np.logspace(-2,-1,10, base = 10.0)\n",
    "res = []\n",
    "best_C, best_res = 0, None\n",
    "for C in Cs:\n",
    "    scores = -1 * score(LogisticRegression(C=C, multi_class='multinomial',solver='lbfgs'))\n",
    "    temp_res = scores.mean()\n",
    "    res.append(temp_res)\n",
    "    if not best_res or temp_res < best_res:\n",
    "        best_res, best_C = temp_res, C\n",
    "print best_C, best_res\n",
    "plt.semilogx(Cs, res,'-o')"
   ]
  },
  {
   "cell_type": "code",
   "execution_count": 19,
   "metadata": {
    "collapsed": false
   },
   "outputs": [
    {
     "name": "stdout",
     "output_type": "stream",
     "text": [
      "0.0278255940221 2.39976240829\n"
     ]
    },
    {
     "data": {
      "text/plain": [
       "[<matplotlib.lines.Line2D at 0x119c76890>]"
      ]
     },
     "execution_count": 19,
     "metadata": {},
     "output_type": "execute_result"
    },
    {
     "data": {
      "image/png": "[encoded data removed]",
      "text/plain": [
       "<matplotlib.figure.Figure at 0x1297a7310>"
      ]
     },
     "metadata": {},
     "output_type": "display_data"
    }
   ],
   "source": [
    "mtrain_bm = hstack((mtrain_brand, mtrain_model), format='csr')\n",
    "Cs = np.logspace(-2,-1,10, base = 10.0)\n",
    "res = []\n",
    "best_C, best_res = 0, None\n",
    "for C in Cs:\n",
    "    scores = -1 * score(LogisticRegression(C=C, multi_class='multinomial',solver='lbfgs'), X=mtrain_bm)\n",
    "    temp_res = scores.mean()\n",
    "    res.append(temp_res)\n",
    "    if not best_res or temp_res < best_res:\n",
    "        best_res, best_C = temp_res, C\n",
    "print best_C, best_res\n",
    "plt.semilogx(Cs, res,'-o')"
   ]
  },
  {
   "cell_type": "code",
   "execution_count": 21,
   "metadata": {
    "collapsed": false
   },
   "outputs": [
    {
     "name": "stdout",
     "output_type": "stream",
     "text": [
      "458\n"
     ]
    }
   ],
   "source": [
    "label_cat = label_cat.loc[label_cat.label_id.isin(app_label.label_id.unique())]\n",
    "catencoder = LabelEncoder().fit(label_cat.category)\n",
    "label_cat['cat'] = catencoder.transform(label_cat.category)\n",
    "ncats = len(catencoder.classes_)\n",
    "print ncats\n",
    "\n",
    "label_cat['label'] = labelencoder.transform(label_cat.label_id)"
   ]
  },
  {
   "cell_type": "code",
   "execution_count": 22,
   "metadata": {
    "collapsed": false
   },
   "outputs": [
    {
     "data": {
      "text/html": [
       "<div>\n",
       "<table border=\"1\" class=\"dataframe\">\n",
       "  <thead>\n",
       "    <tr style=\"text-align: right;\">\n",
       "      <th></th>\n",
       "      <th>device_id</th>\n",
       "      <th>cat</th>\n",
       "      <th>size</th>\n",
       "      <th>trainrow</th>\n",
       "      <th>testrow</th>\n",
       "    </tr>\n",
       "  </thead>\n",
       "  <tbody>\n",
       "    <tr>\n",
       "      <th>0</th>\n",
       "      <td>-9222956879900151005</td>\n",
       "      <td>1</td>\n",
       "      <td>1</td>\n",
       "      <td>21594.0</td>\n",
       "      <td>NaN</td>\n",
       "    </tr>\n",
       "    <tr>\n",
       "      <th>1</th>\n",
       "      <td>-9222956879900151005</td>\n",
       "      <td>10</td>\n",
       "      <td>1</td>\n",
       "      <td>21594.0</td>\n",
       "      <td>NaN</td>\n",
       "    </tr>\n",
       "    <tr>\n",
       "      <th>2</th>\n",
       "      <td>-9222956879900151005</td>\n",
       "      <td>16</td>\n",
       "      <td>31</td>\n",
       "      <td>21594.0</td>\n",
       "      <td>NaN</td>\n",
       "    </tr>\n",
       "    <tr>\n",
       "      <th>3</th>\n",
       "      <td>-9222956879900151005</td>\n",
       "      <td>38</td>\n",
       "      <td>1</td>\n",
       "      <td>21594.0</td>\n",
       "      <td>NaN</td>\n",
       "    </tr>\n",
       "    <tr>\n",
       "      <th>4</th>\n",
       "      <td>-9222956879900151005</td>\n",
       "      <td>57</td>\n",
       "      <td>1</td>\n",
       "      <td>21594.0</td>\n",
       "      <td>NaN</td>\n",
       "    </tr>\n",
       "  </tbody>\n",
       "</table>\n",
       "</div>"
      ],
      "text/plain": [
       "             device_id  cat  size  trainrow  testrow\n",
       "0 -9222956879900151005    1     1   21594.0      NaN\n",
       "1 -9222956879900151005   10     1   21594.0      NaN\n",
       "2 -9222956879900151005   16    31   21594.0      NaN\n",
       "3 -9222956879900151005   38     1   21594.0      NaN\n",
       "4 -9222956879900151005   57     1   21594.0      NaN"
      ]
     },
     "execution_count": 22,
     "metadata": {},
     "output_type": "execute_result"
    }
   ],
   "source": [
    "# Try to make use of category\n",
    "device_cat = (device_app[['device_id','app']]\n",
    "                .merge(app_label[['app','label']])\n",
    "                .merge(label_cat[['label', 'cat']])\n",
    "                .groupby(['device_id','cat'])['cat'].agg(['size'])\n",
    "                .merge(gatrain[['trainrow']], how='left', left_index=True, right_index=True)\n",
    "                .merge(gatest[['testrow']], how='left', left_index=True, right_index=True)\n",
    "                .reset_index())\n",
    "device_cat.head()"
   ]
  },
  {
   "cell_type": "code",
   "execution_count": 23,
   "metadata": {
    "collapsed": true
   },
   "outputs": [],
   "source": [
    "d = device_cat.dropna(subset=['trainrow'])\n",
    "mtrain_cat = csr_matrix((np.ones(d.shape[0]), (d.trainrow, d.cat)),\n",
    "                    shape=(gatrain.shape[0], ncats))\n",
    "d = device_cat.dropna(subset=['testrow'])\n",
    "mtest_cat = csr_matrix((np.ones(d.shape[0]), (d.testrow, d.cat)), \n",
    "                      shape=(gatest.shape[0],ncats))"
   ]
  },
  {
   "cell_type": "code",
   "execution_count": 24,
   "metadata": {
    "collapsed": false
   },
   "outputs": [
    {
     "name": "stdout",
     "output_type": "stream",
     "text": [
      "0.0215443469003 2.30908855011\n"
     ]
    },
    {
     "data": {
      "text/plain": [
       "[<matplotlib.lines.Line2D at 0x11a030910>]"
      ]
     },
     "execution_count": 24,
     "metadata": {},
     "output_type": "execute_result"
    },
    {
     "data": {
      "image/png": "[encoded data removed]",
      "text/plain": [
       "<matplotlib.figure.Figure at 0x1194de610>"
      ]
     },
     "metadata": {},
     "output_type": "display_data"
    }
   ],
   "source": [
    "mtrain_bml = hstack((mtrain_brand, mtrain_model, mtrain_label), format='csr')\n",
    "Cs = np.logspace(-3,0,10, base = 10.0)\n",
    "res = []\n",
    "best_C, best_res = 0, None\n",
    "for C in Cs:\n",
    "    scores = -1 * score(LogisticRegression(C=C, multi_class='multinomial',solver='lbfgs'), X=mtrain_bml)\n",
    "    temp_res = scores.mean()\n",
    "    res.append(temp_res)\n",
    "    if not best_res or temp_res < best_res:\n",
    "        best_res, best_C = temp_res, C\n",
    "print best_C, best_res\n",
    "plt.semilogx(Cs, res,'-o')"
   ]
  },
  {
   "cell_type": "code",
   "execution_count": 25,
   "metadata": {
    "collapsed": false
   },
   "outputs": [
    {
     "name": "stdout",
     "output_type": "stream",
     "text": [
      "0.0215443469003 2.30974279033\n"
     ]
    },
    {
     "data": {
      "text/plain": [
       "[<matplotlib.lines.Line2D at 0x11a44b310>]"
      ]
     },
     "execution_count": 25,
     "metadata": {},
     "output_type": "execute_result"
    },
    {
     "data": {
      "image/png": "[encoded data removed]",
      "text/plain": [
       "<matplotlib.figure.Figure at 0x1164b9d90>"
      ]
     },
     "metadata": {},
     "output_type": "display_data"
    }
   ],
   "source": [
    "mtrain_bmc = hstack((mtrain_brand, mtrain_model, mtrain_cat), format='csr')\n",
    "Cs = np.logspace(-3,0,10, base = 10.0)\n",
    "res = []\n",
    "best_C, best_res = 0, None\n",
    "for C in Cs:\n",
    "    scores = -1 * score(LogisticRegression(C=C, multi_class='multinomial',solver='lbfgs'), X=mtrain_bmc)\n",
    "    temp_res = scores.mean()\n",
    "    res.append(temp_res)\n",
    "    if not best_res or temp_res < best_res:\n",
    "        best_res, best_C = temp_res, C\n",
    "print best_C, best_res\n",
    "plt.semilogx(Cs, res,'-o')"
   ]
  },
  {
   "cell_type": "code",
   "execution_count": 26,
   "metadata": {
    "collapsed": false
   },
   "outputs": [
    {
     "data": {
      "text/plain": [
       "'mtrain_bmc and mtrain_bml give about the same result, which makes sense because label and categories \\n   are about the same thing. I will just use category.'"
      ]
     },
     "execution_count": 26,
     "metadata": {},
     "output_type": "execute_result"
    }
   ],
   "source": [
    "\"\"\"mtrain_bmc and mtrain_bml give about the same result, which makes sense because label and categories \n",
    "   are about the same thing. I will just use category.\"\"\""
   ]
  },
  {
   "cell_type": "code",
   "execution_count": 28,
   "metadata": {
    "collapsed": false
   },
   "outputs": [
    {
     "data": {
      "text/html": [
       "<div>\n",
       "<table border=\"1\" class=\"dataframe\">\n",
       "  <thead>\n",
       "    <tr style=\"text-align: right;\">\n",
       "      <th></th>\n",
       "      <th>device_id</th>\n",
       "      <th>timestamp</th>\n",
       "      <th>longitude</th>\n",
       "      <th>latitude</th>\n",
       "      <th>hour</th>\n",
       "    </tr>\n",
       "    <tr>\n",
       "      <th>event_id</th>\n",
       "      <th></th>\n",
       "      <th></th>\n",
       "      <th></th>\n",
       "      <th></th>\n",
       "      <th></th>\n",
       "    </tr>\n",
       "  </thead>\n",
       "  <tbody>\n",
       "    <tr>\n",
       "      <th>1</th>\n",
       "      <td>29182687948017175</td>\n",
       "      <td>2016-05-01 00:55:25</td>\n",
       "      <td>121.38</td>\n",
       "      <td>31.24</td>\n",
       "      <td>0</td>\n",
       "    </tr>\n",
       "    <tr>\n",
       "      <th>2</th>\n",
       "      <td>-6401643145415154744</td>\n",
       "      <td>2016-05-01 00:54:12</td>\n",
       "      <td>103.65</td>\n",
       "      <td>30.97</td>\n",
       "      <td>0</td>\n",
       "    </tr>\n",
       "    <tr>\n",
       "      <th>3</th>\n",
       "      <td>-4833982096941402721</td>\n",
       "      <td>2016-05-01 00:08:05</td>\n",
       "      <td>106.60</td>\n",
       "      <td>29.70</td>\n",
       "      <td>0</td>\n",
       "    </tr>\n",
       "    <tr>\n",
       "      <th>4</th>\n",
       "      <td>-6815121365017318426</td>\n",
       "      <td>2016-05-01 00:06:40</td>\n",
       "      <td>104.27</td>\n",
       "      <td>23.28</td>\n",
       "      <td>0</td>\n",
       "    </tr>\n",
       "    <tr>\n",
       "      <th>5</th>\n",
       "      <td>-5373797595892518570</td>\n",
       "      <td>2016-05-01 00:07:18</td>\n",
       "      <td>115.88</td>\n",
       "      <td>28.66</td>\n",
       "      <td>0</td>\n",
       "    </tr>\n",
       "  </tbody>\n",
       "</table>\n",
       "</div>"
      ],
      "text/plain": [
       "                    device_id           timestamp  longitude  latitude  hour\n",
       "event_id                                                                    \n",
       "1           29182687948017175 2016-05-01 00:55:25     121.38     31.24     0\n",
       "2        -6401643145415154744 2016-05-01 00:54:12     103.65     30.97     0\n",
       "3        -4833982096941402721 2016-05-01 00:08:05     106.60     29.70     0\n",
       "4        -6815121365017318426 2016-05-01 00:06:40     104.27     23.28     0\n",
       "5        -5373797595892518570 2016-05-01 00:07:18     115.88     28.66     0"
      ]
     },
     "execution_count": 28,
     "metadata": {},
     "output_type": "execute_result"
    }
   ],
   "source": [
    "def get_hour(x):\n",
    "    return x.hour\n",
    "event = pd.read_csv('Data/events.csv',\n",
    "                     parse_dates=['timestamp'], index_col='event_id')\n",
    "event['hour'] = event.timestamp.map(get_hour)\n",
    "event.head()"
   ]
  },
  {
   "cell_type": "code",
   "execution_count": 29,
   "metadata": {
    "collapsed": false
   },
   "outputs": [],
   "source": [
    "event = (event.groupby(['device_id', 'hour']).agg({'hour': 'size'})\n",
    "          .groupby(level=0).apply(lambda x: x / float(x.sum())))\n",
    "event = event.rename(columns={'hour':'hour_pct'})"
   ]
  },
  {
   "cell_type": "code",
   "execution_count": 30,
   "metadata": {
    "collapsed": false
   },
   "outputs": [
    {
     "data": {
      "text/html": [
       "<div>\n",
       "<table border=\"1\" class=\"dataframe\">\n",
       "  <thead>\n",
       "    <tr style=\"text-align: right;\">\n",
       "      <th></th>\n",
       "      <th>device_id</th>\n",
       "      <th>hour</th>\n",
       "      <th>hour_pct</th>\n",
       "      <th>trainrow</th>\n",
       "      <th>testrow</th>\n",
       "    </tr>\n",
       "  </thead>\n",
       "  <tbody>\n",
       "    <tr>\n",
       "      <th>0</th>\n",
       "      <td>-9222956879900151005</td>\n",
       "      <td>7</td>\n",
       "      <td>0.030769</td>\n",
       "      <td>21594.0</td>\n",
       "      <td>NaN</td>\n",
       "    </tr>\n",
       "    <tr>\n",
       "      <th>1</th>\n",
       "      <td>-9222956879900151005</td>\n",
       "      <td>11</td>\n",
       "      <td>0.107692</td>\n",
       "      <td>21594.0</td>\n",
       "      <td>NaN</td>\n",
       "    </tr>\n",
       "    <tr>\n",
       "      <th>2</th>\n",
       "      <td>-9222956879900151005</td>\n",
       "      <td>12</td>\n",
       "      <td>0.200000</td>\n",
       "      <td>21594.0</td>\n",
       "      <td>NaN</td>\n",
       "    </tr>\n",
       "    <tr>\n",
       "      <th>3</th>\n",
       "      <td>-9222956879900151005</td>\n",
       "      <td>13</td>\n",
       "      <td>0.046154</td>\n",
       "      <td>21594.0</td>\n",
       "      <td>NaN</td>\n",
       "    </tr>\n",
       "    <tr>\n",
       "      <th>4</th>\n",
       "      <td>-9222956879900151005</td>\n",
       "      <td>14</td>\n",
       "      <td>0.076923</td>\n",
       "      <td>21594.0</td>\n",
       "      <td>NaN</td>\n",
       "    </tr>\n",
       "  </tbody>\n",
       "</table>\n",
       "</div>"
      ],
      "text/plain": [
       "             device_id  hour  hour_pct  trainrow  testrow\n",
       "0 -9222956879900151005     7  0.030769   21594.0      NaN\n",
       "1 -9222956879900151005    11  0.107692   21594.0      NaN\n",
       "2 -9222956879900151005    12  0.200000   21594.0      NaN\n",
       "3 -9222956879900151005    13  0.046154   21594.0      NaN\n",
       "4 -9222956879900151005    14  0.076923   21594.0      NaN"
      ]
     },
     "execution_count": 30,
     "metadata": {},
     "output_type": "execute_result"
    }
   ],
   "source": [
    "# Add events time (hour) as a feature\n",
    "event = (event.merge(gatrain[['trainrow']], how='left', left_index=True, right_index=True)\n",
    "          .merge(gatest[['testrow']], how='left', left_index=True, right_index=True)\n",
    "          .reset_index())\n",
    "event.head()"
   ]
  },
  {
   "cell_type": "code",
   "execution_count": 31,
   "metadata": {
    "collapsed": false
   },
   "outputs": [
    {
     "name": "stdout",
     "output_type": "stream",
     "text": [
      "Events hour pct: train shape (74645, 24), test shape (112071, 24)\n"
     ]
    }
   ],
   "source": [
    "d = event.dropna(subset=['trainrow'])\n",
    "mtrain_hour = csr_matrix((d.hour_pct, (d.trainrow, d.hour)),\n",
    "                      shape=(gatrain.shape[0], 24))\n",
    "d = event.dropna(subset=['testrow'])\n",
    "mtest_hour = csr_matrix((d.hour_pct, (d.testrow, d.hour)),\n",
    "                     shape=(gatest.shape[0], 24))\n",
    "print 'Events hour pct: train shape {}, test shape {}'.format(mtrain_hour.shape, mtest_hour.shape)"
   ]
  },
  {
   "cell_type": "code",
   "execution_count": 32,
   "metadata": {
    "collapsed": false
   },
   "outputs": [
    {
     "name": "stdout",
     "output_type": "stream",
     "text": [
      "0.0215443469003 2.30945538196\n"
     ]
    },
    {
     "data": {
      "text/plain": [
       "[<matplotlib.lines.Line2D at 0x11a17f250>]"
      ]
     },
     "execution_count": 32,
     "metadata": {},
     "output_type": "execute_result"
    },
    {
     "data": {
      "image/png": "[encoded data removed]",
      "text/plain": [
       "<matplotlib.figure.Figure at 0x11a3f5810>"
      ]
     },
     "metadata": {},
     "output_type": "display_data"
    }
   ],
   "source": [
    "mtrain_bmch = hstack((mtrain_brand, mtrain_model, mtrain_cat, mtrain_hour), format='csr')\n",
    "Cs = np.logspace(-2,-1,10, base = 10.0)\n",
    "res = []\n",
    "best_C, best_res = 0, None\n",
    "for C in Cs:\n",
    "    scores = -1 * score(LogisticRegression(C=C, multi_class='multinomial',solver='lbfgs'), X=mtrain_bmch)\n",
    "    temp_res = scores.mean()\n",
    "    res.append(temp_res)\n",
    "    if not best_res or temp_res < best_res:\n",
    "        best_res, best_C = temp_res, C\n",
    "print best_C, best_res\n",
    "plt.semilogx(Cs, res,'-o')"
   ]
  },
  {
   "cell_type": "code",
   "execution_count": 33,
   "metadata": {
    "collapsed": false
   },
   "outputs": [
    {
     "name": "stdout",
     "output_type": "stream",
     "text": [
      "0.016681005372 2.28228563884\n"
     ]
    },
    {
     "data": {
      "text/plain": [
       "[<matplotlib.lines.Line2D at 0x14252ee50>]"
      ]
     },
     "execution_count": 33,
     "metadata": {},
     "output_type": "execute_result"
    },
    {
     "data": {
      "image/png": "[encoded data removed]",
      "text/plain": [
       "<matplotlib.figure.Figure at 0x11648b490>"
      ]
     },
     "metadata": {},
     "output_type": "display_data"
    }
   ],
   "source": [
    "mtrain_bmach = hstack((mtrain_brand, mtrain_model, mtrain_app, mtrain_cat, mtrain_hour), format='csr')\n",
    "Cs = np.logspace(-2,-1,10, base = 10.0)\n",
    "res = []\n",
    "best_C, best_res = 0, None\n",
    "for C in Cs:\n",
    "    scores = -1 * score(LogisticRegression(C=C, multi_class='multinomial',solver='lbfgs'), X=mtrain_bmach)\n",
    "    temp_res = scores.mean()\n",
    "    res.append(temp_res)\n",
    "    if not best_res or temp_res < best_res:\n",
    "        best_res, best_C = temp_res, C\n",
    "print best_C, best_res\n",
    "plt.semilogx(Cs, res,'-o')"
   ]
  }
 ],
 "metadata": {
  "kernelspec": {
   "display_name": "Python 2",
   "language": "python",
   "name": "python2"
  },
  "language_info": {
   "codemirror_mode": {
    "name": "ipython",
    "version": 2
   },
   "file_extension": ".py",
   "mimetype": "text/x-python",
   "name": "python",
   "nbconvert_exporter": "python",
   "pygments_lexer": "ipython2",
   "version": "2.7.11"
  }
 },
 "nbformat": 4,
 "nbformat_minor": 0
}
