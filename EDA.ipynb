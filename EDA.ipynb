{
 "cells": [
  {
   "cell_type": "code",
   "execution_count": 2,
   "metadata": {
    "collapsed": false
   },
   "outputs": [],
   "source": [
    "%matplotlib inline\n",
    "import pandas as pd\n",
    "import numpy as np\n",
    "from pandas import DataFrame\n",
    "from pandas import Series\n",
    "import matplotlib.pyplot as plt\n",
    "from datetime import datetime"
   ]
  },
  {
   "cell_type": "code",
   "execution_count": 2,
   "metadata": {
    "collapsed": true
   },
   "outputs": [],
   "source": [
    "app_event = pd.read_csv(\"Data/app_events.csv\")\n",
    "app_label = pd.read_csv(\"Data/app_labels.csv\")\n",
    "label_cat = pd.read_csv(\"Data/label_categories.csv\")\n",
    "event = pd.read_csv(\"Data/events.csv\")\n",
    "phone = pd.read_csv(\"Data/phone_brand_device_model.csv\")\n",
    "gatrain = pd.read_csv(\"Data/gender_age_train.csv\")\n",
    "gatest = pd.read_csv(\"Data/gender_age_test.csv\")"
   ]
  },
  {
   "cell_type": "code",
   "execution_count": 3,
   "metadata": {
    "collapsed": false
   },
   "outputs": [
    {
     "name": "stdout",
     "output_type": "stream",
     "text": [
      "----------------------------------------------------\n",
      "app_event:\n",
      "   event_id               app_id  is_installed  is_active\n",
      "0         2  5927333115845830913             1          1\n",
      "1         2 -5720078949152207372             1          0\n",
      "2         2 -1633887856876571208             1          0\n",
      "3         2  -653184325010919369             1          1\n",
      "4         2  8693964245073640147             1          1\n",
      "----------------------------------------------------\n",
      "app_label:\n",
      "                app_id  label_id\n",
      "0  7324884708820027918       251\n",
      "1 -4494216993218550286       251\n",
      "2  6058196446775239644       406\n",
      "3  6058196446775239644       407\n",
      "4  8694625920731541625       406\n",
      "----------------------------------------------------\n",
      "label_cat:\n",
      "   label_id           category\n",
      "0         1                NaN\n",
      "1         2     game-game type\n",
      "2         3   game-Game themes\n",
      "3         4     game-Art Style\n",
      "4         5  game-Leisure time\n",
      "----------------------------------------------------\n",
      "event:\n",
      "   event_id            device_id            timestamp  longitude  latitude\n",
      "0         1    29182687948017175  2016-05-01 00:55:25     121.38     31.24\n",
      "1         2 -6401643145415154744  2016-05-01 00:54:12     103.65     30.97\n",
      "2         3 -4833982096941402721  2016-05-01 00:08:05     106.60     29.70\n",
      "3         4 -6815121365017318426  2016-05-01 00:06:40     104.27     23.28\n",
      "4         5 -5373797595892518570  2016-05-01 00:07:18     115.88     28.66\n",
      "----------------------------------------------------\n",
      "phone:\n",
      "             device_id phone_brand   device_model\n",
      "0 -8890648629457979026          小米             红米\n",
      "1  1277779817574759137          小米           MI 2\n",
      "2  5137427614288105724          三星      Galaxy S4\n",
      "3  3669464369358936369       SUGAR           时尚手机\n",
      "4 -5019277647504317457          三星  Galaxy Note 2\n",
      "----------------------------------------------------\n",
      "gatrain:\n",
      "             device_id gender  age   group\n",
      "0 -8076087639492063270      M   35  M32-38\n",
      "1 -2897161552818060146      M   35  M32-38\n",
      "2 -8260683887967679142      M   35  M32-38\n",
      "3 -4938849341048082022      M   30  M29-31\n",
      "4   245133531816851882      M   30  M29-31\n",
      "----------------------------------------------------\n",
      "gatest:\n",
      "             device_id\n",
      "0  1002079943728939269\n",
      "1 -1547860181818787117\n",
      "2  7374582448058474277\n",
      "3 -6220210354783429585\n",
      "4 -5893464122623104785\n",
      "----------------------------------------------------\n"
     ]
    }
   ],
   "source": [
    "# Quick look at the data\n",
    "print '----------------------------------------------------'\n",
    "print 'app_event:'\n",
    "print app_event.head()\n",
    "print '----------------------------------------------------'\n",
    "print 'app_label:'\n",
    "print app_label.head()\n",
    "print '----------------------------------------------------'\n",
    "print 'label_cat:'\n",
    "print label_cat.head()\n",
    "print '----------------------------------------------------'\n",
    "print 'event:'\n",
    "print event.head()\n",
    "print '----------------------------------------------------'\n",
    "print 'phone:'\n",
    "print phone.head()\n",
    "print '----------------------------------------------------'\n",
    "print 'gatrain:'\n",
    "print gatrain.head()\n",
    "print '----------------------------------------------------'\n",
    "print 'gatest:'\n",
    "print gatest.head()\n",
    "print '----------------------------------------------------'"
   ]
  },
  {
   "cell_type": "code",
   "execution_count": 4,
   "metadata": {
    "collapsed": false
   },
   "outputs": [
    {
     "name": "stdout",
     "output_type": "stream",
     "text": [
      "app_event table has 32473067 rows,\n",
      "with 0 duplicated rows.\n",
      "Number of missing values in each column:\n",
      "event_id        0\n",
      "app_id          0\n",
      "is_installed    0\n",
      "is_active       0\n",
      "dtype: int64\n",
      "There are 19237 unique apps,\n",
      "with 1488096 associated events.\n"
     ]
    }
   ],
   "source": [
    "# Frist look at the largest table 'app_event'\n",
    "print 'app_event table has {} rows,'.format(app_event.shape[0])\n",
    "# The next line is very slow, so I commented it out. The result is 0.\n",
    "# print 'with {} duplicated rows.'.format(sum(app_event.duplicated()))\n",
    "print 'with 0 duplicated rows.'\n",
    "# Check for missing values\n",
    "print 'Number of missing values in each column:'\n",
    "print app_event.isnull().sum()\n",
    "print 'There are {} unique apps,'.format(app_event.app_id.nunique())\n",
    "print 'with {} associated events.'.format(app_event.event_id.nunique()) \n",
    "app_id_list_app_event = Series(app_event.app_id.unique())"
   ]
  },
  {
   "cell_type": "code",
   "execution_count": 5,
   "metadata": {
    "collapsed": false
   },
   "outputs": [
    {
     "name": "stdout",
     "output_type": "stream",
     "text": [
      "1    32473067\n",
      "Name: is_installed, dtype: int64\n"
     ]
    }
   ],
   "source": [
    "# All apps in this table should at least be installed\n",
    "print app_event.is_installed.value_counts()"
   ]
  },
  {
   "cell_type": "code",
   "execution_count": 6,
   "metadata": {
    "collapsed": false
   },
   "outputs": [
    {
     "name": "stdout",
     "output_type": "stream",
     "text": [
      "0    19740071\n",
      "1    12732996\n",
      "Name: is_active, dtype: int64\n"
     ]
    }
   ],
   "source": [
    "print app_event.is_active.value_counts()"
   ]
  },
  {
   "cell_type": "code",
   "execution_count": 7,
   "metadata": {
    "collapsed": false,
    "scrolled": true
   },
   "outputs": [
    {
     "data": {
      "text/plain": [
       " 8693964245073640147    1151391\n",
       " 5927333115845830913     898788\n",
       " 4348659952760821294     795995\n",
       " 628020936226491308      620659\n",
       " 3433289601737013244     373186\n",
       "-2320783822570582843     295619\n",
       " 5729517255058371973     272353\n",
       " 3683147815759994238     265823\n",
       " 6284164581582112235     260639\n",
       " 8948670408023620661     254316\n",
       "-3955212733485100109     246759\n",
       " 7348340405200054701     241397\n",
       " 3717049149426646122     232618\n",
       " 4244331088397413857     226472\n",
       "-5720078949152207372     221899\n",
       " 7460082553072507347     221756\n",
       "-6590029937880196169     220237\n",
       "-538061441862183033      215628\n",
       " 33792862810792679       193287\n",
       " 9112463114311278255     192712\n",
       "-653184325026622087      184246\n",
       "-5472633337921616096     177964\n",
       "-196592189248911642      176140\n",
       "-6689096779184407258     172843\n",
       "-7377004479023402858     171707\n",
       "-8504475857937456387     170511\n",
       "-5839858269967688123     164802\n",
       "-5305696816021977482     152631\n",
       " 7167114343576723123     151790\n",
       " 4521626599305779338     146025\n",
       "                         ...   \n",
       "-3941735873055543182          1\n",
       "-6793861127573349655          1\n",
       " 3902587190681200311          1\n",
       " 6858445130855278836          1\n",
       "-4726929000679814887          1\n",
       "-3177238429312857716          1\n",
       " 4898670571761002129          1\n",
       " 5297913678331311494          1\n",
       "-3269304966842228838          1\n",
       "-5522967220292116422          1\n",
       "-3773385910722162139          1\n",
       "-8263312366374333256          1\n",
       " 3054581369186337879          1\n",
       "-2117976693296533580          1\n",
       "-9118462923242438211          1\n",
       " 6435406931440013519          1\n",
       "-1298567684993364787          1\n",
       " 6595509485769369167          1\n",
       "-5650926168667776268          1\n",
       "-4702884397584906409          1\n",
       "-7307586986288255356          1\n",
       "-4627895517289148335          1\n",
       " 1200576438738229286          1\n",
       " 4285172318030059293          1\n",
       "-2949113843987998242          1\n",
       " 9167533161638933548          1\n",
       "-2359146449417518823          1\n",
       " 1630165050548462668          1\n",
       " 985026560197751364           1\n",
       " 3008246796340872162          1\n",
       "Name: app_id, dtype: int64"
      ]
     },
     "execution_count": 7,
     "metadata": {},
     "output_type": "execute_result"
    }
   ],
   "source": [
    "# Clearly, an app can have many associated events\n",
    "vc_app = app_event.app_id.value_counts()\n",
    "vc_app"
   ]
  },
  {
   "cell_type": "code",
   "execution_count": 8,
   "metadata": {
    "collapsed": false
   },
   "outputs": [
    {
     "data": {
      "text/plain": [
       "3215932    320\n",
       "1827617    304\n",
       "2849072    304\n",
       "2325136    303\n",
       "3085011    303\n",
       "1923040    303\n",
       "2805295    302\n",
       "2679507    302\n",
       "2412744    302\n",
       "1160746    300\n",
       "2990638    299\n",
       "219629     298\n",
       "956087     298\n",
       "2328996    297\n",
       "2989536    261\n",
       "2204686    261\n",
       "1472406    261\n",
       "649636     261\n",
       "2932987    261\n",
       "2470660    261\n",
       "2573741    261\n",
       "1801966    261\n",
       "1598158    261\n",
       "1324254    261\n",
       "1874044    261\n",
       "2826735    261\n",
       "2227905    261\n",
       "2084776    255\n",
       "79641      254\n",
       "1359558    251\n",
       "          ... \n",
       "2682884      1\n",
       "2597984      1\n",
       "1247580      1\n",
       "2745773      1\n",
       "914594       1\n",
       "2568701      1\n",
       "745980       1\n",
       "1385012      1\n",
       "635946       1\n",
       "1032734      1\n",
       "3207938      1\n",
       "1270524      1\n",
       "2182932      1\n",
       "2887356      1\n",
       "2273610      1\n",
       "1778676      1\n",
       "2450492      1\n",
       "574206       1\n",
       "2729380      1\n",
       "1210197      1\n",
       "407005       1\n",
       "1155749      1\n",
       "193861       1\n",
       "1893133      1\n",
       "13597        1\n",
       "898221       1\n",
       "936692       1\n",
       "985820       1\n",
       "2319613      1\n",
       "575841       1\n",
       "Name: event_id, dtype: int64"
      ]
     },
     "execution_count": 8,
     "metadata": {},
     "output_type": "execute_result"
    }
   ],
   "source": [
    "# Can an event be related to more than one apps?\n",
    "vc_event = app_event.event_id.value_counts()\n",
    "vc_event\n",
    "# I still find it strange an event can be related to 300 apps, it could reveal some interesting information\n",
    "# if we figure out the cause."
   ]
  },
  {
   "cell_type": "code",
   "execution_count": 9,
   "metadata": {
    "collapsed": false
   },
   "outputs": [
    {
     "data": {
      "text/plain": [
       "<matplotlib.text.Text at 0x111818fd0>"
      ]
     },
     "execution_count": 9,
     "metadata": {},
     "output_type": "execute_result"
    },
    {
     "data": {
      "image/png": "[encoded data removed]",
      "text/plain": [
       "<matplotlib.figure.Figure at 0x1278e0390>"
      ]
     },
     "metadata": {},
     "output_type": "display_data"
    }
   ],
   "source": [
    "# The following plots may not be strictly correct. The first plot is counting events that are related \n",
    "# to more than one app multiple times, the second plot is counting a lot of apps more than once.\n",
    "sum_app = vc_app.cumsum()/vc_app.sum()\n",
    "sum_event = vc_event.cumsum()/vc_event.sum()\n",
    "fig, (ax1,ax2,ax3) = plt.subplots(1,3,sharey=True,figsize=(12,4))\n",
    "ax1.plot(np.arange(sum_app.shape[0])+1, sum_app.values*100)\n",
    "ax1.set_xlabel('Most used apps') # By 'most used', I mean apps that triggered most events\n",
    "ax1.set_title('% of total events triggered vs. apps') \n",
    "ax2.plot(np.arange(sum_event.shape[0])+1, sum_event.values*100)\n",
    "ax2.set_xlabel('Events associated with largest number of apps')\n",
    "ax2.set_title('% of total apps')\n",
    "ax3.plot(np.arange(sum_app.shape[0])+1, sum_app.values*100)\n",
    "ax1.set_xlabel('Most used apps')\n",
    "ax3.set_xlim(0, 2000)\n",
    "ax3.set_title('The first plot zoomed in on the first 2000 apps')"
   ]
  },
  {
   "cell_type": "code",
   "execution_count": 10,
   "metadata": {
    "collapsed": false
   },
   "outputs": [
    {
     "name": "stdout",
     "output_type": "stream",
     "text": [
      "app_label table has 459943 rows,\n",
      "Number of missing values in each column:\n",
      "app_id      0\n",
      "label_id    0\n",
      "dtype: int64\n",
      "There are 113211 unique app_ids.\n",
      "There are 507 unique label_ids.\n",
      "0 app_ids in app_event is not in app_label.\n"
     ]
    }
   ],
   "source": [
    "# Look at the 'app_label' table\n",
    "print 'app_label table has {} rows,'.format(app_label.shape[0])\n",
    "# Check for missing values\n",
    "print 'Number of missing values in each column:'\n",
    "print app_label.isnull().sum()\n",
    "print 'There are {} unique app_ids.'.format(app_label.app_id.nunique())\n",
    "print 'There are {} unique label_ids.'.format(app_label.label_id.nunique()) \n",
    "# Check if any app_id in app_event is not in app_label table\n",
    "print '{} app_ids in app_event is not in app_label.'.format(sum(~app_id_list_app_event.isin(app_label.app_id)))\n",
    "label_id_list_app_label = Series(app_label.label_id.unique())"
   ]
  },
  {
   "cell_type": "code",
   "execution_count": 11,
   "metadata": {
    "collapsed": false
   },
   "outputs": [
    {
     "name": "stdout",
     "output_type": "stream",
     "text": [
      "label_cat table has 930 rows\n",
      "Number of missing values in each column:\n",
      "label_id    0\n",
      "category    3\n",
      "dtype: int64\n",
      "There are 0 repeated label_ids.\n",
      "There are 94 repeated categories\n"
     ]
    }
   ],
   "source": [
    "# Look at the 'label_cat' table\n",
    "print 'label_cat table has {} rows'.format(label_cat.shape[0])\n",
    "# Check for missing values\n",
    "print 'Number of missing values in each column:'\n",
    "print label_cat.isnull().sum()\n",
    "print 'There are {} repeated label_ids.'.format(sum(label_cat.label_id.duplicated()))\n",
    "print 'There are {} repeated categories'.format(sum(label_cat.category.duplicated()))"
   ]
  },
  {
   "cell_type": "code",
   "execution_count": 12,
   "metadata": {
    "collapsed": false
   },
   "outputs": [
    {
     "name": "stdout",
     "output_type": "stream",
     "text": [
      "0 label_ids in app_label is not in label_cat.\n"
     ]
    }
   ],
   "source": [
    "# My initial thought is it doesn't make much sense to have duplicated categories, \n",
    "# but this table is only useful when joined with app_label. \n",
    "# Then the label column becomes useless, we will only have apps\n",
    "# that belong to the same categories. So it might not be necessary \n",
    "# to remove the duplicated categories.\n",
    "\n",
    "# Check if any labels from app_label table is not in label_cat\n",
    "print '{} label_ids in app_label is not in label_cat.'.format(sum(~label_id_list_app_label.isin(label_cat.label_id)))"
   ]
  },
  {
   "cell_type": "code",
   "execution_count": 21,
   "metadata": {
    "collapsed": false,
    "scrolled": false
   },
   "outputs": [
    {
     "name": "stdout",
     "output_type": "stream",
     "text": [
      "event table has 3252950 rows\n",
      "with 0 duplicated rows.\n",
      "Number of missing values in each column:\n",
      "event_id     0\n",
      "device_id    0\n",
      "timestamp    0\n",
      "longitude    0\n",
      "latitude     0\n",
      "location     0\n",
      "dtype: int64\n",
      "There are 0 repeated event_ids.\n",
      "There are 60865 unique device_ids.\n",
      "0\n",
      " 1186608308763918427    33426\n",
      " 3915082290673137129    14568\n",
      "-1656894751624916732     6731\n",
      "-6242501228649113250     4150\n",
      "-8340098378141155823     3973\n",
      "-3746248670824158209     3907\n",
      " 2504414082456157897     3804\n",
      "-3037377082444295812     3534\n",
      "-17299534936664237       3506\n",
      "-7369693784883843916     3446\n",
      " 8339429008953975436     3440\n",
      " 5083019926611946481     3395\n",
      " 5375599021847302819     3128\n",
      "-5105332332397066846     3099\n",
      " 2771516290634663640     2975\n",
      " 6093002121756678917     2956\n",
      "-4272349824279327690     2941\n",
      " 4782582047729166353     2899\n",
      " 5412535611892404899     2890\n",
      " 6752290732094543435     2784\n",
      " 1779631023439405334     2757\n",
      " 5098778421671837341     2722\n",
      "-4408024234436488510     2625\n",
      " 6871174750645130490     2609\n",
      "-6470609369540549852     2522\n",
      "-7295456045290839743     2364\n",
      " 3724654925765159056     2347\n",
      "-6875585507485886098     2310\n",
      "-563333606900826189      2174\n",
      "-7335675747890320104     2124\n",
      "                        ...  \n",
      "-9181738358000344093        1\n",
      " 7806298636210591786        1\n",
      "-8657137191584682458        1\n",
      " 2460409982608909870        1\n",
      " 4574912929802652588        1\n",
      " 6529936973200668895        1\n",
      " 353870407349595833         1\n",
      " 7643630511904778088        1\n",
      "-8178011017730625825        1\n",
      " 3693283629384849626        1\n",
      "-9090134575924711687        1\n",
      " 7470994728496098234        1\n",
      "-8663675671158064437        1\n",
      " 1690913454485658940        1\n",
      "-7401090783234491411        1\n",
      "-6215870991943208253        1\n",
      "-7775990760794296818        1\n",
      " 2990307928043532031        1\n",
      "-1679203677211391692        1\n",
      "-8089334641910829974        1\n",
      "-4698716773161359414        1\n",
      "-2725755171689672216        1\n",
      "-7714630067332298822        1\n",
      "-3795476720672088985        1\n",
      "-375405073862187648         1\n",
      " 781851599932550953         1\n",
      "-8126302119835621758        1\n",
      "-803242747247619527         1\n",
      " 709247865516551294         1\n",
      " 4224710574768605050        1\n",
      "Name: device_id, dtype: int64\n"
     ]
    }
   ],
   "source": [
    "# Look at the 'event' table\n",
    "# Look at the 'label_cat' table\n",
    "print 'event table has {} rows'.format(event.shape[0])\n",
    "print 'with {} duplicated rows.'.format(sum(event.duplicated()))\n",
    "# Check for missing values\n",
    "print 'Number of missing values in each column:'\n",
    "print event.isnull().sum()\n",
    "print 'There are {} repeated event_ids.'.format(sum(event.event_id.duplicated()))\n",
    "print 'There are {} unique device_ids.'.format(event.device_id.nunique())\n",
    "# Check if the same phone shows up at more than one place at the same time\n",
    "# if yes, we need to clean the data\n",
    "event['location'] = str(event['longitude']) + ',' + str(event['latitude'])\n",
    "dup = event.groupby(['device_id', 'timestamp'])['location'].nunique()\n",
    "print dup[dup > 1].shape[0]\n",
    "# Quick look at the number of events associated with each phone\n",
    "print event.device_id.value_counts()"
   ]
  },
  {
   "cell_type": "code",
   "execution_count": 43,
   "metadata": {
    "collapsed": false
   },
   "outputs": [],
   "source": [
    "# Create hour column for plotting\n",
    "def get_hour(x):\n",
    "    return int(x.split(' ')[1][:2])\n",
    "event['hour'] = event.timestamp.map(get_hour)"
   ]
  },
  {
   "cell_type": "code",
   "execution_count": 53,
   "metadata": {
    "collapsed": false
   },
   "outputs": [
    {
     "data": {
      "text/plain": [
       "<matplotlib.text.Text at 0x1161df990>"
      ]
     },
     "execution_count": 53,
     "metadata": {},
     "output_type": "execute_result"
    },
    {
     "data": {
      "image/png": "[encoded data removed]",
      "text/plain": [
       "<matplotlib.figure.Figure at 0x115d50910>"
      ]
     },
     "metadata": {},
     "output_type": "display_data"
    }
   ],
   "source": [
    "ax = event.hour.value_counts(sort=False).plot(kind='bar')\n",
    "ax.set_title('Hour distribution of number of events')\n",
    "ax.set_xlabel('Hour')\n",
    "ax.set_ylabel('Number of events')"
   ]
  },
  {
   "cell_type": "code",
   "execution_count": 58,
   "metadata": {
    "collapsed": false
   },
   "outputs": [
    {
     "name": "stdout",
     "output_type": "stream",
     "text": [
      "1764854 event_ids from event are not in app_event.\n"
     ]
    }
   ],
   "source": [
    "# Check if all event_ids in event table are in app_event\n",
    "print '{} event_ids from event are not in app_event.'.format(sum(~event.event_id.isin(app_event.event_id)))"
   ]
  },
  {
   "cell_type": "markdown",
   "metadata": {},
   "source": [
    "There are a lot of events that cannot be looked up from app_event table, so we won't be able to find out the related app information."
   ]
  },
  {
   "cell_type": "code",
   "execution_count": 59,
   "metadata": {
    "collapsed": false
   },
   "outputs": [
    {
     "name": "stdout",
     "output_type": "stream",
     "text": [
      "3252950\n",
      "1488096\n",
      "0 event_ids from app_event are not in event table.\n"
     ]
    }
   ],
   "source": [
    "print event.event_id.nunique()\n",
    "print app_event.event_id.nunique()\n",
    "print '{} event_ids from app_event are not in event table.'.format(app_event.event_id.nunique() + 1764854 - event.event_id.nunique())"
   ]
  },
  {
   "cell_type": "code",
   "execution_count": 60,
   "metadata": {
    "collapsed": false
   },
   "outputs": [
    {
     "name": "stdout",
     "output_type": "stream",
     "text": [
      "gatrain table has 74645 rows\n",
      "with 0 duplicated rows.\n",
      "Number of missing values in each column:\n",
      "device_id    0\n",
      "gender       0\n",
      "age          0\n",
      "group        0\n",
      "dtype: int64\n",
      "There are 0 repeated device_ids.\n"
     ]
    }
   ],
   "source": [
    "# Look at the gatrain table\n",
    "print 'gatrain table has {} rows'.format(gatrain.shape[0])\n",
    "print 'with {} duplicated rows.'.format(sum(gatrain.duplicated()))\n",
    "# Check for missing values\n",
    "print 'Number of missing values in each column:'\n",
    "print gatrain.isnull().sum()\n",
    "print 'There are {} repeated device_ids.'.format(sum(gatrain.device_id.duplicated()))"
   ]
  },
  {
   "cell_type": "code",
   "execution_count": 61,
   "metadata": {
    "collapsed": false
   },
   "outputs": [
    {
     "data": {
      "text/plain": [
       "<matplotlib.axes._subplots.AxesSubplot at 0x1161e7c50>"
      ]
     },
     "execution_count": 61,
     "metadata": {},
     "output_type": "execute_result"
    },
    {
     "data": {
      "image/png": "[encoded data removed]",
      "text/plain": [
       "<matplotlib.figure.Figure at 0x11676e090>"
      ]
     },
     "metadata": {},
     "output_type": "display_data"
    }
   ],
   "source": [
    "gatrain.group.value_counts().sort_index().plot(kind='bar')"
   ]
  },
  {
   "cell_type": "code",
   "execution_count": 62,
   "metadata": {
    "collapsed": false
   },
   "outputs": [
    {
     "data": {
      "text/plain": [
       "<matplotlib.axes._subplots.AxesSubplot at 0x11676e850>"
      ]
     },
     "execution_count": 62,
     "metadata": {},
     "output_type": "execute_result"
    },
    {
     "data": {
      "image/png": "[encoded data removed]",
      "text/plain": [
       "<matplotlib.figure.Figure at 0x1166efa90>"
      ]
     },
     "metadata": {},
     "output_type": "display_data"
    }
   ],
   "source": [
    "gatrain.gender.value_counts().plot(kind='bar')"
   ]
  },
  {
   "cell_type": "code",
   "execution_count": 74,
   "metadata": {
    "collapsed": false
   },
   "outputs": [
    {
     "data": {
      "text/plain": [
       "<matplotlib.collections.LineCollection at 0x11d0e6b10>"
      ]
     },
     "execution_count": 74,
     "metadata": {},
     "output_type": "execute_result"
    },
    {
     "data": {
      "image/png": "[encoded data removed]",
      "text/plain": [
       "<matplotlib.figure.Figure at 0x126ff5b90>"
      ]
     },
     "metadata": {},
     "output_type": "display_data"
    }
   ],
   "source": [
    "groups = gatrain.groupby(['age', 'gender']).size().unstack().reindex(index=np.arange(gatrain.age.min(), gatrain.age.max()+1)).fillna(0)\n",
    "ax1, ax2 = groups.plot(kind='bar',figsize=(18,6),subplots=True)\n",
    "plt.xticks(rotation=0)\n",
    "ax1.vlines(np.array([23,26,28,32,42])-0.5,0,1800,alpha=0.5,linewidth=1,color='r')\n",
    "ax2.vlines(np.array([22,26,28,31,38])-0.5,0,3000,alpha=0.5,linewidth=1,color='r')"
   ]
  },
  {
   "cell_type": "code",
   "execution_count": 82,
   "metadata": {
    "collapsed": false
   },
   "outputs": [
    {
     "name": "stdout",
     "output_type": "stream",
     "text": [
      "51336 device_ids from gatrain are not in event table.\n"
     ]
    }
   ],
   "source": [
    "# Check if all device_ids from gatrain are from event table\n",
    "print '{} device_ids from gatrain are not in event table.'.format(sum(~(Series(gatrain.device_id.unique()).isin(event.device_id.unique()))))"
   ]
  },
  {
   "cell_type": "code",
   "execution_count": 83,
   "metadata": {
    "collapsed": false,
    "scrolled": true
   },
   "outputs": [
    {
     "name": "stdout",
     "output_type": "stream",
     "text": [
      "gatest table has 112071 rows\n",
      "with 0 duplicated rows.\n",
      "Number of missing values in each column:\n",
      "device_id    0\n",
      "dtype: int64\n",
      "There are 0 repeated device_ids.\n",
      "76877 device_ids from gatest are not in event table.\n"
     ]
    }
   ],
   "source": [
    "# Look at the gatest table\n",
    "print 'gatest table has {} rows'.format(gatest.shape[0])\n",
    "print 'with {} duplicated rows.'.format(sum(gatest.duplicated()))\n",
    "# Check for missing values\n",
    "print 'Number of missing values in each column:'\n",
    "print gatest.isnull().sum()\n",
    "print 'There are {} repeated device_ids.'.format(sum(gatest.device_id.duplicated()))\n",
    "print '{} device_ids from gatest are not in event table.'.format(sum(~(Series(gatest.device_id.unique()).isin(event.device_id.unique()))))"
   ]
  },
  {
   "cell_type": "code",
   "execution_count": 86,
   "metadata": {
    "collapsed": false,
    "scrolled": true
   },
   "outputs": [
    {
     "name": "stdout",
     "output_type": "stream",
     "text": [
      "187245 rows\n",
      "with 523 duplicated rows.\n",
      "unique values:\n",
      "device_id: 186716\n",
      "phone_brand: 131\n",
      "device_model: 1599\n"
     ]
    }
   ],
   "source": [
    "# Look at the phone table\n",
    "print('{} rows'.format(phone.shape[0]))\n",
    "print 'with {} duplicated rows.'.format(sum(phone.duplicated()))\n",
    "print(\"unique values:\")\n",
    "for c in phone.columns:\n",
    "    print('{}: {}'.format(c, phone[c].nunique()))"
   ]
  },
  {
   "cell_type": "code",
   "execution_count": 4,
   "metadata": {
    "collapsed": false,
    "scrolled": true
   },
   "outputs": [
    {
     "data": {
      "text/plain": [
       "(6,)"
      ]
     },
     "execution_count": 4,
     "metadata": {},
     "output_type": "execute_result"
    }
   ],
   "source": [
    "# Drop duplicated rows\n",
    "phone = phone.drop_duplicates()\n",
    "# Check duplicated device_id\n",
    "dup_phones = phone.groupby('device_id').size()\n",
    "dup_phones = dup_phones[dup_phones>1]\n",
    "dup_phones.shape"
   ]
  },
  {
   "cell_type": "code",
   "execution_count": 5,
   "metadata": {
    "collapsed": false,
    "scrolled": true
   },
   "outputs": [
    {
     "name": "stdout",
     "output_type": "stream",
     "text": [
      "                     phone_brand_x       device_model_x phone_brand_y  \\\n",
      "device_id                                                               \n",
      "-7297178577997113203            华为               荣耀畅玩5X            华为   \n",
      "-7059081542575379359            LG              Nexus 5            魅族   \n",
      "-6590454305031525112            小米                 MI 3            华为   \n",
      "-5269721363279128080            三星  Galaxy Core Advance            小米   \n",
      "-3004353610608679970            酷派                 5891            酷派   \n",
      " 5245428108336915020            魅族                  MX4            小米   \n",
      "\n",
      "                     device_model_y  \n",
      "device_id                            \n",
      "-7297178577997113203           荣耀3C  \n",
      "-7059081542575379359       魅蓝Note 2  \n",
      "-6590454305031525112       荣耀6 Plus  \n",
      "-5269721363279128080           MI 3  \n",
      "-3004353610608679970           7296  \n",
      " 5245428108336915020    MI One Plus  \n"
     ]
    }
   ],
   "source": [
    "dup_phones_list = phone[phone.device_id.isin(dup_phones.index)]\n",
    "first = dup_phones_list.groupby('device_id').first()\n",
    "last = dup_phones_list.groupby('device_id').last()\n",
    "\n",
    "# print pd.merge(first, last, left_index=True, right_index=True)\n",
    "print pd.concat((first, last), axis=1)"
   ]
  },
  {
   "cell_type": "code",
   "execution_count": 113,
   "metadata": {
    "collapsed": false
   },
   "outputs": [
    {
     "name": "stdout",
     "output_type": "stream",
     "text": [
      "小米      43107\n",
      "三星      34191\n",
      "华为      32465\n",
      "vivo    14342\n",
      "OPPO    14239\n",
      "魅族      11816\n",
      "酷派       8382\n",
      "联想       6752\n",
      "金立       2763\n",
      "HTC      2675\n",
      "中兴       2092\n",
      "乐视       1916\n",
      "索尼       1818\n",
      "努比亚      1142\n",
      "LG        761\n",
      "中国移动      668\n",
      "TCL       583\n",
      "朵唯        544\n",
      "锤子        534\n",
      "优米        492\n",
      "海信        489\n",
      "一加        437\n",
      "语信        395\n",
      "天语        376\n",
      "奇酷        376\n",
      "摩托罗拉      228\n",
      "酷比        165\n",
      "酷比魔方      152\n",
      "ZUK       152\n",
      "美图        150\n",
      "        ...  \n",
      "摩乐          5\n",
      "优语          5\n",
      "宝捷讯         4\n",
      "天宏时代        4\n",
      "惠普          4\n",
      "唯比          4\n",
      "本为          4\n",
      "丰米          3\n",
      "大显          3\n",
      "鲜米          3\n",
      "恒宇丰         2\n",
      "凯利通         2\n",
      "赛博宇华        2\n",
      "原点          2\n",
      "飞秒          2\n",
      "MIL         2\n",
      "戴尔          2\n",
      "世纪星         2\n",
      "瑞高          1\n",
      "ZOYE        1\n",
      "西门子         1\n",
      "碟米          1\n",
      "极米          1\n",
      "欧乐酷         1\n",
      "E人E本        1\n",
      "宏碁          1\n",
      "德卡诺         1\n",
      "帷幄          1\n",
      "亚马逊         1\n",
      "嘉源          1\n",
      "Name: phone_brand, dtype: int64\n",
      "红米note              7343\n",
      "MI 3                5699\n",
      "MI 2S               5301\n",
      "Galaxy Note 3       5010\n",
      "MI 4                4788\n",
      "Galaxy S4           4045\n",
      "Galaxy Note 2       3985\n",
      "荣耀6                 3070\n",
      "荣耀畅玩4X              2750\n",
      "荣耀3C                2596\n",
      "红米1S                2476\n",
      "红米                  2435\n",
      "Galaxy S3           2413\n",
      "Mate 7              2403\n",
      "魅蓝NOTE              2126\n",
      "红米2                 2085\n",
      "红米Note2             2027\n",
      "Galaxy S5           1757\n",
      "MX3                 1745\n",
      "红米2A                1730\n",
      "魅蓝Note 2            1728\n",
      "荣耀6 Plus            1684\n",
      "红米note增强版           1668\n",
      "荣耀3X畅玩版             1600\n",
      "MX4                 1597\n",
      "小米note              1536\n",
      "R7                  1449\n",
      "Ascend P7           1414\n",
      "荣耀畅玩4C              1395\n",
      "MI 2                1310\n",
      "                    ... \n",
      "Tab2A7-20F             1\n",
      "K016                   1\n",
      "G Pro Lite Dual        1\n",
      "S100                   1\n",
      "F4                     1\n",
      "G71                    1\n",
      "F20T                   1\n",
      "IdeaTab 2109A          1\n",
      "Z7                     1\n",
      "IUSAI US15             1\n",
      "W700                   1\n",
      "E820                   1\n",
      "N919D                  1\n",
      "荣耀V8                   1\n",
      "m310                   1\n",
      "N900                   1\n",
      "HS-U971                1\n",
      "W2016                  1\n",
      "VIBE X2 Pro            1\n",
      "Galaxy Grand Max       1\n",
      "A100                   1\n",
      "V788D                  1\n",
      "T89-2                  1\n",
      "K23                    1\n",
      "U960                   1\n",
      "V100                   1\n",
      "A68e                   1\n",
      "X98 3G                 1\n",
      "V975s Core4            1\n",
      "ASUS_Z00XSB            1\n",
      "Name: device_model, dtype: int64\n"
     ]
    }
   ],
   "source": [
    "phone = phone.drop_duplicates('device_id', keep='first')\n",
    "print phone.phone_brand.value_counts()\n",
    "print phone.device_model.value_counts()"
   ]
  },
  {
   "cell_type": "code",
   "execution_count": 114,
   "metadata": {
    "collapsed": false,
    "scrolled": true
   },
   "outputs": [
    {
     "data": {
      "text/plain": [
       "1    1545\n",
       "2      43\n",
       "3       8\n",
       "4       3\n",
       "Name: phone_brand, dtype: int64"
      ]
     },
     "execution_count": 114,
     "metadata": {},
     "output_type": "execute_result"
    }
   ],
   "source": [
    "# Do different brands use the same model name sometimes?\n",
    "phone.groupby('device_model')['phone_brand'].nunique().value_counts()"
   ]
  },
  {
   "cell_type": "markdown",
   "metadata": {},
   "source": [
    "1545 models have unique brands, the rest model names are shared by multiple brands. Thus it might be necessary to prepend the models with the brands."
   ]
  },
  {
   "cell_type": "code",
   "execution_count": 116,
   "metadata": {
    "collapsed": false
   },
   "outputs": [
    {
     "name": "stdout",
     "output_type": "stream",
     "text": [
      "             device_id phone_brand   device_model device_brand_model\n",
      "0 -8890648629457979026          小米             红米               小米红米\n",
      "1  1277779817574759137          小米           MI 2             小米MI 2\n",
      "2  5137427614288105724          三星      Galaxy S4        三星Galaxy S4\n",
      "3  3669464369358936369       SUGAR           时尚手机          SUGAR时尚手机\n",
      "4 -5019277647504317457          三星  Galaxy Note 2    三星Galaxy Note 2\n"
     ]
    }
   ],
   "source": [
    "phone['device_brand_model'] = phone['phone_brand'].str.cat(phone['device_model'])\n",
    "print phone.head()"
   ]
  },
  {
   "cell_type": "code",
   "execution_count": 120,
   "metadata": {
    "collapsed": false
   },
   "outputs": [
    {
     "name": "stdout",
     "output_type": "stream",
     "text": [
      "9 most popular brands account for 90% of the devices\n",
      "374 most popular models account for 90% of the devices\n"
     ]
    },
    {
     "data": {
      "image/png": "[encoded data removed]",
      "text/plain": [
       "<matplotlib.figure.Figure at 0x117796f50>"
      ]
     },
     "metadata": {},
     "output_type": "display_data"
    }
   ],
   "source": [
    "c_brand = phone.phone_brand.value_counts()\n",
    "s_brand = c_brand.cumsum()/c_brand.sum()\n",
    "fig, (ax1,ax2) = plt.subplots(1,2,sharey=True,figsize=(10,4))\n",
    "ax1.plot(np.arange(s_brand.shape[0])+1, s_brand.values*100)\n",
    "ax1.set_xlim(0,30)\n",
    "ax1.set_xlabel('N most popular brands')\n",
    "ax1.set_title('% of devices');\n",
    "c_model = phone.device_brand_model.value_counts()\n",
    "s_model = c_model.cumsum()/c_model.sum()\n",
    "ax2.plot(np.arange(s_model.shape[0])+1, s_model.values*100)\n",
    "ax2.set_xlim(0,400)\n",
    "ax2.set_xlabel('N most popular models')\n",
    "ax2.set_title('% of devices')\n",
    "print '{} most popular brands account for 90% of the devices'.format(s_brand.index.get_loc((s_brand >= 0.9).argmax()) + 1)\n",
    "print '{} most popular models account for 90% of the devices'.format(s_model.index.get_loc((s_model >= 0.9).argmax()) + 1)"
   ]
  },
  {
   "cell_type": "code",
   "execution_count": 122,
   "metadata": {
    "collapsed": false,
    "scrolled": false
   },
   "outputs": [
    {
     "name": "stdout",
     "output_type": "stream",
     "text": [
      "0 device_ids from gatrain are not in phone table.\n",
      "0 device_ids from gatest are not in phone table.\n"
     ]
    }
   ],
   "source": [
    "print '{} device_ids from gatrain are not in phone table.'.format(sum(~(Series(gatrain.device_id.unique()).isin(phone.device_id.unique()))))\n",
    "print '{} device_ids from gatest are not in phone table.'.format(sum(~(Series(gatest.device_id.unique()).isin(phone.device_id.unique()))))"
   ]
  },
  {
   "cell_type": "code",
   "execution_count": 9,
   "metadata": {
    "collapsed": false,
    "scrolled": true
   },
   "outputs": [],
   "source": [
    "train_phone = gatrain.merge(phone[['device_id','phone_brand','device_model']], how='left',on='device_id')\n",
    "event_phone = event.merge(phone[['device_id','phone_brand','device_model']], how='left',on='device_id')\n",
    "train_brand = train_phone.phone_brand.unique()\n",
    "event_brand = event_phone.phone_brand.unique()\n",
    "test_phone = gatest.merge(phone[['device_id','phone_brand','device_model']], how='left',on='device_id')\n",
    "test_brand = test_phone.phone_brand.unique()"
   ]
  },
  {
   "cell_type": "code",
   "execution_count": 14,
   "metadata": {
    "collapsed": false
   },
   "outputs": [
    {
     "name": "stdout",
     "output_type": "stream",
     "text": [
      "True     108\n",
      "False     12\n",
      "dtype: int64\n",
      "True     114\n",
      "False     12\n",
      "dtype: int64\n"
     ]
    }
   ],
   "source": [
    "print Series(train_brand).isin(event_brand).value_counts()\n",
    "print Series(test_brand).isin(event_brand).value_counts()"
   ]
  },
  {
   "cell_type": "code",
   "execution_count": 15,
   "metadata": {
    "collapsed": false
   },
   "outputs": [
    {
     "name": "stdout",
     "output_type": "stream",
     "text": [
      "True     74820\n",
      "False       19\n",
      "Name: phone_brand, dtype: int64\n",
      "True     112374\n",
      "False        32\n",
      "Name: phone_brand, dtype: int64\n"
     ]
    }
   ],
   "source": [
    "print train_phone.phone_brand.isin(event_brand).value_counts()\n",
    "print test_phone.phone_brand.isin(event_brand).value_counts()"
   ]
  }
 ],
 "metadata": {
  "kernelspec": {
   "display_name": "Python 2",
   "language": "python",
   "name": "python2"
  },
  "language_info": {
   "codemirror_mode": {
    "name": "ipython",
    "version": 2
   },
   "file_extension": ".py",
   "mimetype": "text/x-python",
   "name": "python",
   "nbconvert_exporter": "python",
   "pygments_lexer": "ipython2",
   "version": "2.7.11"
  }
 },
 "nbformat": 4,
 "nbformat_minor": 0
}
